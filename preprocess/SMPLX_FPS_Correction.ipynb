{
 "cells": [
  {
   "cell_type": "markdown",
   "metadata": {},
   "source": [
    "# FPS Correction\n",
    "The FPS for all motions in SMPLX is currently set to 120, which is incorrect and needs to be adjusted. Meanwhile, the FPS for SMPLH is correct, so we need to align all SMPLX FPS values with the corresponding SMPLH FPS values.\n",
    "\n",
    "The process consists of two steps:\n",
    "\n",
    "1. Standardize file names to ensure correspondence, as there are slight differences between the downloaded SMPLH and SMPLX file names.\n",
    "   \n",
    "2. Adjust the FPS for SMPLX files based on their corresponding SMPLH files.\n",
    "The detailed code is provided below."
   ]
  },
  {
   "cell_type": "markdown",
   "metadata": {},
   "source": [
    "\n",
    "\n",
    "## 1. Renaming Instructions\n",
    "The following code is used to rename SMPLX file names to match those of SMPLH based on SMPLH naming conventions. Note that both SMPLH and SMPLX files end with .npz. Also, please note that this code only needs to be executed once.\n",
    "\n",
    "Finally, you'll notice that the total number of SMPLX files will be slightly less than the SMPLH files. This is because some CMU dataset files are not included in SMPLX."
   ]
  },
  {
   "cell_type": "code",
   "execution_count": null,
   "metadata": {},
   "outputs": [],
   "source": [
    "import re\n",
    "import shutil\n",
    "import glob\n",
    "import os\n",
    "\n",
    "\n",
    "import codecs as cs\n",
    "import pandas as pd\n",
    "import numpy as np\n",
    "from tqdm import tqdm\n",
    "from os.path import join as pjoin\n",
    "\n",
    "\n",
    "smplh_file_list = []\n",
    "smplh_file_replace_list = []\n",
    "smplh_path = '../datasets/AMASS_SMPLH/'\n",
    "smplh_search_path = os.path.join(smplh_path, '**', '*.npz')\n",
    "smplh_npz_files = glob.glob(smplh_search_path, recursive=True)\n",
    "for smplh_name in smplh_npz_files:\n",
    "    if 'BMLmovi' in smplh_name or 'BMLhandball' in smplh_name or 'DFaust_67' in smplh_name: continue\n",
    "    name = smplh_name[len(smplh_path):]\n",
    "    smplh_file_list.append(name)\n",
    "    smplh_file_replace_list.append(name.replace(' ','_'))\n",
    "print(len(smplh_file_list))\n",
    "\n",
    "smplx_file_list = []\n",
    "smplx_path = '../datasets/AMASS_SMPLX/'\n",
    "smplx_search_path = os.path.join(smplx_path, '**', '*.npz')\n",
    "smplx_npz_files = glob.glob(smplx_search_path, recursive=True)\n",
    "tot = 0\n",
    "for name in smplx_npz_files:\n",
    "    if 'male_stagei.npz' in name or 'female_stagei.npz' in name:\n",
    "        continue\n",
    "    relpath = name[len(smplx_path):]\n",
    "    relpath = relpath[:-12]+'_poses.npz'  # Replace the ending _stageii.npz with _poses.npz\n",
    "    if relpath not in smplh_file_replace_list:\n",
    "        print(relpath)\n",
    "        continue\n",
    "    \n",
    "    for index,smplh_replace_name in enumerate(smplh_file_replace_list):\n",
    "        if relpath in smplh_replace_name:\n",
    "            shutil.move(name,smplx_path+smplh_file_list[index])\n",
    "    \n",
    "    tot = tot+1\n",
    "    smplx_file_list.append(relpath)\n",
    "print(tot)"
   ]
  },
  {
   "cell_type": "markdown",
   "metadata": {},
   "source": [
    "## 2. FPS Correction\n",
    "The FPS for all motions in SMPLX is set to 120, which is incorrect and needs to be corrected to synchronize with SMPLH. (The FPS of SMPLH is right)\n",
    "\n",
    "The code for correction is provided below."
   ]
  },
  {
   "cell_type": "code",
   "execution_count": 1,
   "metadata": {},
   "outputs": [
    {
     "name": "stdout",
     "output_type": "stream",
     "text": [
      "11370\n"
     ]
    }
   ],
   "source": [
    "import re\n",
    "import shutil\n",
    "import glob\n",
    "import os\n",
    "\n",
    "\n",
    "import codecs as cs\n",
    "import pandas as pd\n",
    "import numpy as np\n",
    "from tqdm import tqdm\n",
    "from os.path import join as pjoin\n",
    "\n",
    "\n",
    "\n",
    "smplh_path = '../datasets/AMASS_SMPLH/'\n",
    "\n",
    "smplx_path = '../datasets/AMASS_SMPLX/'\n",
    "smplx_search_path = os.path.join(smplx_path, '**', '*.npz')\n",
    "smplx_npz_files = glob.glob(smplx_search_path, recursive=True)\n",
    "for name in smplx_npz_files:\n",
    "    if 'male_stagei.npz' in name or 'female_stagei.npz' in name:\n",
    "        continue\n",
    "    relpath = name[len(smplx_path):]\n",
    "    smplx_file = np.load(name,allow_pickle=True)\n",
    "    smplx_data_dict = {key: smplx_file[key] for key in smplx_file}\n",
    "    \n",
    "    smplh_file = np.load(smplh_path+relpath,allow_pickle=True)\n",
    "    \n",
    "    assert 'mocap_frame_rate' in smplx_file.files\n",
    "    assert 'mocap_framerate' in smplh_file.files\n",
    "    \n",
    "    smplx_data_dict['mocap_frame_rate'] = smplh_file['mocap_framerate']\n",
    "    np.savez(name, **smplx_data_dict)\n"
   ]
  }
 ],
 "metadata": {
  "kernelspec": {
   "display_name": "gdc",
   "language": "python",
   "name": "python3"
  },
  "language_info": {
   "codemirror_mode": {
    "name": "ipython",
    "version": 3
   },
   "file_extension": ".py",
   "mimetype": "text/x-python",
   "name": "python",
   "nbconvert_exporter": "python",
   "pygments_lexer": "ipython3",
   "version": "3.10.11"
  }
 },
 "nbformat": 4,
 "nbformat_minor": 2
}
