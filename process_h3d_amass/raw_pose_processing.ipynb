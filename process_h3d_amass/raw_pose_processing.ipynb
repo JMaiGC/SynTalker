{
 "cells": [
  {
   "cell_type": "markdown",
   "metadata": {},
   "source": [
    "## Extract Poses from Amass Dataset"
   ]
  },
  {
   "cell_type": "code",
   "execution_count": null,
   "metadata": {},
   "outputs": [],
   "source": [
    "%load_ext autoreload\n",
    "%autoreload 2\n",
    "%matplotlib notebook\n",
    "%matplotlib inline\n",
    "\n",
    "import sys, os\n",
    "import torch\n",
    "import numpy as np\n",
    "import matplotlib\n",
    "import matplotlib.pyplot as plt\n",
    "from tqdm import tqdm\n",
    "import rotation_conversions as rc\n",
    "\n",
    "\n",
    "from human_body_prior.tools.omni_tools import copy2cpu as c2c\n",
    "\n",
    "os.environ['PYOPENGL_PLATFORM'] = 'egl'"
   ]
  },
  {
   "cell_type": "markdown",
   "metadata": {},
   "source": [
    "### Please remember to download the following subdataset from AMASS website: https://amass.is.tue.mpg.de/download.php. Note only download the <u>SMPL+H G</u> data.\n",
    "* ACCD (ACCD)\n",
    "* HDM05 (MPI_HDM05)\n",
    "* TCDHands (TCD_handMocap)\n",
    "* SFU (SFU)\n",
    "* BMLmovi (BMLmovi)\n",
    "* CMU (CMU)\n",
    "* Mosh (MPI_mosh)\n",
    "* EKUT (EKUT)\n",
    "* KIT  (KIT)\n",
    "* Eyes_Janpan_Dataset (Eyes_Janpan_Dataset)\n",
    "* BMLhandball (BMLhandball)\n",
    "* Transitions (Transitions_mocap)\n",
    "* PosePrior (MPI_Limits)\n",
    "* HumanEva (HumanEva)\n",
    "* SSM (SSM_synced)\n",
    "* DFaust (DFaust_67)\n",
    "* TotalCapture (TotalCapture)\n",
    "* BMLrub (BioMotionLab_NTroje)\n",
    "\n",
    "### Unzip all datasets. In the bracket we give the name of the unzipped file folder. Please correct yours to the given names if they are not the same."
   ]
  },
  {
   "cell_type": "markdown",
   "metadata": {},
   "source": [
    "### Place all files under the directory **./amass_data/**. The directory structure shoud look like the following:  \n",
    "./amass_data/  \n",
    "./amass_data/ACCAD/  \n",
    "./amass_data/BioMotionLab_NTroje/  \n",
    "./amass_data/BMLhandball/  \n",
    "./amass_data/BMLmovi/   \n",
    "./amass_data/CMU/  \n",
    "./amass_data/DFaust_67/  \n",
    "./amass_data/EKUT/  \n",
    "./amass_data/Eyes_Japan_Dataset/  \n",
    "./amass_data/HumanEva/  \n",
    "./amass_data/KIT/  \n",
    "./amass_data/MPI_HDM05/  \n",
    "./amass_data/MPI_Limits/  \n",
    "./amass_data/MPI_mosh/  \n",
    "./amass_data/SFU/  \n",
    "./amass_data/SSM_synced/  \n",
    "./amass_data/TCD_handMocap/  \n",
    "./amass_data/TotalCapture/  \n",
    "./amass_data/Transitions_mocap/  \n",
    "\n",
    "**Please make sure the file path are correct, otherwise it can not succeed.**"
   ]
  },
  {
   "cell_type": "code",
   "execution_count": null,
   "metadata": {},
   "outputs": [],
   "source": [
    "# Choose the device to run the body model on.\n",
    "comp_device = torch.device(\"cuda:0\" if torch.cuda.is_available() else \"cpu\")"
   ]
  },
  {
   "cell_type": "code",
   "execution_count": null,
   "metadata": {},
   "outputs": [],
   "source": [
    "!ln -s ../datasets/AMASS_SMPLX ./amass_data"
   ]
  },
  {
   "cell_type": "code",
   "execution_count": null,
   "metadata": {},
   "outputs": [],
   "source": [
    "import smplx\n",
    "smplx_bm = smplx.create(\n",
    "            \"../datasets/hub/smplx_models/\", \n",
    "            model_type='smplx',\n",
    "            gender='NEUTRAL_2020', \n",
    "            use_face_contour=False,\n",
    "            num_betas=300,\n",
    "            num_expression_coeffs=100, \n",
    "            ext='npz',\n",
    "            use_pca=False,\n",
    "        ).cuda().eval()\n",
    "\n",
    "def load_amass(data):\n",
    "    ## 这个是用来\n",
    "    # 修改amass数据里面的朝向，原本在blender里面是Z轴向上，目标是Y轴向上，当时面向目前没改\n",
    "    \n",
    "    data_dict = {key: data[key] for key in data}\n",
    "    frames = data_dict['poses'].shape[0]\n",
    "    # b = data_dict['poses'][...,:3]\n",
    "    # b = rc.axis_angle_to_matrix(torch.from_numpy(b))\n",
    "    # rot_matrix = np.array([[1.0, 0.0, 0.0], [0.0 , 0.0, 1.0], [0.0, -1.0, 0.0]])\n",
    "    # c = np.einsum('ij,kjl->kil',rot_matrix,b)\n",
    "    # c = rc.matrix_to_axis_angle(torch.from_numpy(c))\n",
    "    # data_dict['poses'][...,:3] = c\n",
    "    \n",
    "    # trans_matrix1 = np.array([[1.0, 0.0, 0.0], [0.0 , 0.0, -1.0], [0.0, 1.0, 0.0]])\n",
    "    # data_dict['trans'] = np.einsum(\"bi,ij->bj\",data_dict['trans'],trans_matrix1)\n",
    "    \n",
    "    betas300 = np.zeros(300)\n",
    "    betas300[:16] = data_dict['betas']\n",
    "    data_dict['betas'] = betas300\n",
    "    data_dict[\"expressions\"] = np.zeros((frames,100))\n",
    "    return data_dict\n",
    "\n"
   ]
  },
  {
   "cell_type": "code",
   "execution_count": null,
   "metadata": {},
   "outputs": [],
   "source": [
    "paths = []\n",
    "folders = []\n",
    "dataset_names = []\n",
    "for root, dirs, files in os.walk('./amass_data'):\n",
    "#     print(root, dirs, files)\n",
    "#     for folder in dirs:\n",
    "#         folders.append(os.path.join(root, folder))\n",
    "    folders.append(root)\n",
    "    for name in files:\n",
    "        dataset_name = root.split('/')[2]\n",
    "        if dataset_name not in dataset_names:\n",
    "            dataset_names.append(dataset_name)\n",
    "        paths.append(os.path.join(root, name))"
   ]
  },
  {
   "cell_type": "code",
   "execution_count": null,
   "metadata": {},
   "outputs": [],
   "source": [
    "save_root = './pose_data'\n",
    "save_folders = [folder.replace('./amass_data', './pose_data') for folder in folders]\n",
    "for folder in save_folders:\n",
    "    os.makedirs(folder, exist_ok=True)\n",
    "group_path = [[path for path in paths if name in path] for name in dataset_names]\n",
    "print(group_path)"
   ]
  },
  {
   "cell_type": "code",
   "execution_count": null,
   "metadata": {},
   "outputs": [],
   "source": [
    "trans_matrix = np.array([[1.0, 0.0, 0.0],\n",
    "                            [0.0, 0.0, 1.0],\n",
    "                            [0.0, 1.0, 0.0]])\n",
    "ex_fps = 30\n",
    "target_joint = list(range(22))+list(range(25,55))\n",
    "def amass_to_pose(src_path, save_path):\n",
    "    bdata = np.load(src_path, allow_pickle=True)\n",
    "    if len(bdata.files)==6:\n",
    "        #print(f\"# ---- state file ---- #\")\n",
    "        return 0\n",
    "    bdata = load_amass(bdata)\n",
    "    fps = 0\n",
    "    try:\n",
    "        fps = bdata['mocap_frame_rate']\n",
    "        frame_number = bdata['trans'].shape[0]\n",
    "    except:\n",
    "#         print(list(bdata.keys()))\n",
    "        return fps\n",
    "    fId = 0 # frame id of the mocap sequence\n",
    "    pose_seq = []    \n",
    "    \n",
    "    betas = bdata['betas'].reshape(1,300)\n",
    "    betas = np.tile(betas, (frame_number, 1))\n",
    "    poses = bdata['poses']\n",
    "    trans = bdata['trans']\n",
    "    exps = bdata['expressions']\n",
    "    \n",
    "\n",
    "     \n",
    "    down_sample = int(fps / ex_fps)\n",
    "#     print(frame_number)\n",
    "#     print(fps)\n",
    "    betas = torch.from_numpy(betas).float().to(comp_device)[::down_sample]\n",
    "    poses = torch.from_numpy(poses).float().to(comp_device)[::down_sample]\n",
    "    trans = torch.from_numpy(trans).float().to(comp_device)[::down_sample]\n",
    "    exps = torch.from_numpy(exps).float().to(comp_device)[::down_sample]\n",
    "    \n",
    "    \n",
    "    n, c = poses.shape[0], poses.shape[1]\n",
    "    max_length = 128\n",
    "    s, r = n//max_length, n%max_length\n",
    "    #print(n, s, r)\n",
    "    all_tensor = []\n",
    "    with torch.no_grad():\n",
    "        for i in range(s):\n",
    "            with torch.no_grad():\n",
    "                joints = smplx_bm(\n",
    "                    betas=betas[i*max_length:(i+1)*max_length], \n",
    "                    transl=trans[i*max_length:(i+1)*max_length], \n",
    "                    expression=exps[i*max_length:(i+1)*max_length], \n",
    "                    jaw_pose=poses[i*max_length:(i+1)*max_length, 66:69], \n",
    "                    global_orient=poses[i*max_length:(i+1)*max_length,:3], \n",
    "                    body_pose=poses[i*max_length:(i+1)*max_length,3:21*3+3], \n",
    "                    left_hand_pose=poses[i*max_length:(i+1)*max_length,25*3:40*3], \n",
    "                    right_hand_pose=poses[i*max_length:(i+1)*max_length,40*3:55*3], \n",
    "                    return_verts=True,\n",
    "                    return_joints=True,\n",
    "                    leye_pose=poses[i*max_length:(i+1)*max_length, 69:72], \n",
    "                    reye_pose=poses[i*max_length:(i+1)*max_length, 72:75],\n",
    "                )['joints'][:, target_joint, :]\n",
    "            pose_seq.append(joints)\n",
    "        if r != 0:\n",
    "            with torch.no_grad():\n",
    "                joints = smplx_bm(\n",
    "                    betas=betas[s*max_length:s*max_length+r], \n",
    "                    transl=trans[s*max_length:s*max_length+r], \n",
    "                    expression=exps[s*max_length:s*max_length+r], \n",
    "                    jaw_pose=poses[s*max_length:s*max_length+r, 66:69], \n",
    "                    global_orient=poses[s*max_length:s*max_length+r,:3], \n",
    "                    body_pose=poses[s*max_length:s*max_length+r,3:21*3+3], \n",
    "                    left_hand_pose=poses[s*max_length:s*max_length+r,25*3:40*3], \n",
    "                    right_hand_pose=poses[s*max_length:s*max_length+r,40*3:55*3], \n",
    "                    return_verts=True,\n",
    "                    return_joints=True,\n",
    "                    leye_pose=poses[s*max_length:s*max_length+r, 69:72], \n",
    "                    reye_pose=poses[s*max_length:s*max_length+r, 72:75],\n",
    "                )['joints'][:, target_joint, :]\n",
    "            pose_seq.append(joints)\n",
    "\n",
    "    pose_seq = torch.cat(pose_seq, dim=0)\n",
    "    \n",
    "    pose_seq_np = pose_seq.detach().cpu().numpy()\n",
    "    pose_seq_np_n = np.dot(pose_seq_np, trans_matrix)\n",
    "    \n",
    "    np.save(save_path, pose_seq_np_n)\n",
    "    return fps"
   ]
  },
  {
   "cell_type": "code",
   "execution_count": null,
   "metadata": {},
   "outputs": [],
   "source": [
    "group_path = group_path\n",
    "all_count = sum([len(paths) for paths in group_path])\n",
    "cur_count = 0\n",
    "print(group_path)"
   ]
  },
  {
   "cell_type": "markdown",
   "metadata": {},
   "source": [
    "This will take a few hours for all datasets, here we take one dataset as an example\n",
    "\n",
    "To accelerate the process, you could run multiple scripts like this at one time."
   ]
  },
  {
   "cell_type": "code",
   "execution_count": null,
   "metadata": {},
   "outputs": [],
   "source": [
    "for paths in group_path:\n",
    "    dataset_name = paths[0].split('/')[2]\n",
    "    if 'BMLhandball' not in dataset_name or 'DFaust_67' not in dataset_name or 'HumanEva' not in dataset_name : continue\n",
    "    print(1)"
   ]
  },
  {
   "cell_type": "code",
   "execution_count": null,
   "metadata": {},
   "outputs": [],
   "source": [
    "import time\n",
    "for paths in group_path:\n",
    "    dataset_name = paths[0].split('/')[2]\n",
    "    pbar = tqdm(paths)\n",
    "    pbar.set_description('Processing: %s'%dataset_name)\n",
    "    fps = 0\n",
    "    for path in pbar:\n",
    "        save_path = path.replace('./amass_data', './pose_data1')\n",
    "        save_path = save_path[:-3] + 'npy'\n",
    "        fps = amass_to_pose(path, save_path)\n",
    "        \n",
    "    cur_count += len(paths)\n",
    "    print('Processed / All (fps %d): %d/%d'% (fps, cur_count, all_count) )\n",
    "    time.sleep(0.5)"
   ]
  },
  {
   "cell_type": "code",
   "execution_count": null,
   "metadata": {},
   "outputs": [],
   "source": [
    "a = np.load('')"
   ]
  },
  {
   "cell_type": "markdown",
   "metadata": {},
   "source": [
    "The above code will extract poses from **AMASS** dataset, and put them under directory **\"./pose_data\"**"
   ]
  },
  {
   "cell_type": "markdown",
   "metadata": {},
   "source": [
    "The source data from **HumanAct12** is already included in **\"./pose_data\"** in this repository. You need to **unzip** it right in this folder."
   ]
  },
  {
   "cell_type": "markdown",
   "metadata": {},
   "source": [
    "## Segment, Mirror and Relocate Motions"
   ]
  },
  {
   "cell_type": "code",
   "execution_count": null,
   "metadata": {},
   "outputs": [],
   "source": [
    "import codecs as cs\n",
    "import pandas as pd\n",
    "import numpy as np\n",
    "from tqdm import tqdm\n",
    "from os.path import join as pjoin"
   ]
  },
  {
   "cell_type": "code",
   "execution_count": null,
   "metadata": {},
   "outputs": [],
   "source": [
    "def swap_left_right(data):\n",
    "    assert len(data.shape) == 3 and data.shape[-1] == 3\n",
    "    data = data.copy()\n",
    "    data[..., 0] *= -1\n",
    "    right_chain = [2, 5, 8, 11, 14, 17, 19, 21]\n",
    "    left_chain = [1, 4, 7, 10, 13, 16, 18, 20]\n",
    "    left_hand_chain = [22, 23, 24, 34, 35, 36, 25, 26, 27, 31, 32, 33, 28, 29, 30]\n",
    "    right_hand_chain = [43, 44, 45, 46, 47, 48, 40, 41, 42, 37, 38, 39, 49, 50, 51]\n",
    "    tmp = data[:, right_chain]\n",
    "    data[:, right_chain] = data[:, left_chain]\n",
    "    data[:, left_chain] = tmp\n",
    "    if data.shape[1] > 24:\n",
    "        tmp = data[:, right_hand_chain]\n",
    "        data[:, right_hand_chain] = data[:, left_hand_chain]\n",
    "        data[:, left_hand_chain] = tmp\n",
    "    return data"
   ]
  },
  {
   "cell_type": "code",
   "execution_count": null,
   "metadata": {},
   "outputs": [],
   "source": [
    "index_path = '../index.csv'\n",
    "save_dir = './joints'\n",
    "index_file = pd.read_csv(index_path)\n",
    "total_amount = index_file.shape[0]\n",
    "fps = 30"
   ]
  },
  {
   "cell_type": "code",
   "execution_count": null,
   "metadata": {},
   "outputs": [],
   "source": [
    "mis_count = 0\n",
    "for i in tqdm(range(total_amount)):\n",
    "    source_path = index_file.loc[i]['source_path']\n",
    "    new_name = index_file.loc[i]['new_name']\n",
    "    if not os.path.exists(source_path):\n",
    "        # print(f\"{source_path} not exists\")\n",
    "        mis_count = mis_count+1\n",
    "        continue\n",
    "    data = np.load(source_path)\n",
    "    start_frame = int(index_file.loc[i]['start_frame']/20*fps)\n",
    "    end_frame = int(index_file.loc[i]['end_frame']/20*fps)\n",
    "    if 'humanact12' not in source_path:\n",
    "        if 'Eyes_Japan_Dataset' in source_path:\n",
    "            data = data[3*fps:]\n",
    "        if 'MPI_HDM05' in source_path:\n",
    "            data = data[3*fps:]\n",
    "        if 'TotalCapture' in source_path:\n",
    "            data = data[1*fps:]\n",
    "        if 'MPI_Limits' in source_path:\n",
    "            data = data[1*fps:]\n",
    "        if 'Transitions_mocap' in source_path:\n",
    "            data = data[int(0.5*fps):]\n",
    "        data = data[start_frame:end_frame]\n",
    "        data[..., 0] *= -1\n",
    "    \n",
    "    data_m = swap_left_right(data)\n",
    "#     save_path = pjoin(save_dir, )\n",
    "    np.save(pjoin(save_dir, new_name), data)\n",
    "    np.save(pjoin(save_dir, 'M'+new_name), data_m)\n",
    "print(mis_count)"
   ]
  }
 ],
 "metadata": {
  "kernelspec": {
   "display_name": "gdc",
   "language": "python",
   "name": "python3"
  },
  "language_info": {
   "codemirror_mode": {
    "name": "ipython",
    "version": 3
   },
   "file_extension": ".py",
   "mimetype": "text/x-python",
   "name": "python",
   "nbconvert_exporter": "python",
   "pygments_lexer": "ipython3",
   "version": "3.10.11"
  }
 },
 "nbformat": 4,
 "nbformat_minor": 4
}
